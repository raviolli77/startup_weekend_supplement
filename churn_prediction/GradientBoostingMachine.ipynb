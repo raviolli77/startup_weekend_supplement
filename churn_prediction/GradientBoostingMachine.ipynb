{
 "cells": [
  {
   "cell_type": "markdown",
   "metadata": {},
   "source": [
    "# Load Packages"
   ]
  },
  {
   "cell_type": "code",
   "execution_count": 1,
   "metadata": {},
   "outputs": [],
   "source": [
    "#!/usr/bin/env python3\n",
    "import time\n",
    "import numpy as np\n",
    "import pandas as pd\n",
    "import matplotlib.pyplot as plt\n",
    "import seaborn as sns\n",
    "from sklearn.utils import resample\n",
    "from sklearn.metrics import auc\n",
    "from sklearn.metrics import roc_curve\n",
    "from sklearn.model_selection import train_test_split\n",
    "from sklearn.model_selection import KFold, cross_val_score\n",
    "from sklearn.model_selection import GridSearchCV\n",
    "from sklearn.ensemble import GradientBoostingClassifier"
   ]
  },
  {
   "cell_type": "markdown",
   "metadata": {},
   "source": [
    "# Load Data"
   ]
  },
  {
   "cell_type": "code",
   "execution_count": 2,
   "metadata": {},
   "outputs": [],
   "source": [
    "customer_churn = pd.read_csv('customer-churn.csv')\n",
    "\n",
    "names = [\"gender\", \"Partner\", \"Dependents\", \"PhoneService\", \n",
    "\"MultipleLines\", \"InternetService\", \"OnlineSecurity\",\n",
    "\"OnlineBackup\", \"DeviceProtection\", \"TechSupport\", \n",
    "\"StreamingMovies\", \"StreamingTV\", \"Contract\", \"PaperlessBilling\", \n",
    "\"PaymentMethod\"]\n",
    "\n",
    "churn = [\"Continuing Service\", \"Churn\"]\n",
    "\n",
    "customer_churn_new = pd.get_dummies(customer_churn, columns=names)\n",
    "del customer_churn_new['customerID'] "
   ]
  },
  {
   "cell_type": "markdown",
   "metadata": {},
   "source": [
    "# Clean Data"
   ]
  },
  {
   "cell_type": "code",
   "execution_count": 3,
   "metadata": {},
   "outputs": [],
   "source": [
    "customer_churn_new[\"Churn\"] = customer_churn_new[\"Churn\"].map({'Yes':1, \"No\":0})\n",
    "\n",
    "customer_churn_new[\"TotalCharges\"] = customer_churn_new[\"TotalCharges\"].replace(\" \", np.nan)\n",
    "customer_churn_new[\"TotalCharges\"] = customer_churn_new[\"TotalCharges\"].astype(\"float64\")\n",
    "customer_churn_new[\"TotalCharges\"].fillna(customer_churn_new[\"TotalCharges\"].mean(), inplace=True)"
   ]
  },
  {
   "cell_type": "code",
   "execution_count": 4,
   "metadata": {},
   "outputs": [
    {
     "name": "stdout",
     "output_type": "stream",
     "text": [
      "Continuing Service accounts for 73.46% of the Target class\n",
      "Churn accounts for 26.54% of the Target class\n"
     ]
    }
   ],
   "source": [
    "def print_churn_perc(data_frame, col):\n",
    "    \"\"\"Function used to print class distribution for our data set\"\"\"\n",
    "    churn_vals = data_frame[col].value_counts()\n",
    "    churn_vals = churn_vals.reset_index()\n",
    "    # Create a function to output the percentage\n",
    "    f = lambda x, y: 100 * (x / sum(y))\n",
    "    for i in range(0, len(churn)):\n",
    "        print('{0} accounts for {1:.2f}% of the Target class'\\\n",
    "              .format(churn[i], f(churn_vals[col].iloc[i],\n",
    "                               churn_vals[col])))\n",
    "\n",
    "print_churn_perc(customer_churn_new, \"Churn\")"
   ]
  },
  {
   "cell_type": "markdown",
   "metadata": {},
   "source": [
    "# Validation Set"
   ]
  },
  {
   "cell_type": "code",
   "execution_count": 5,
   "metadata": {},
   "outputs": [],
   "source": [
    "sub_set, test_set = train_test_split(customer_churn_new,\n",
    "                                          test_size = 0.25,\n",
    "                                          random_state = 42)"
   ]
  },
  {
   "cell_type": "markdown",
   "metadata": {},
   "source": [
    "## Upsampling \n",
    "Inspired by [this article](https://elitedatascience.com/imbalanced-classes)"
   ]
  },
  {
   "cell_type": "code",
   "execution_count": 6,
   "metadata": {},
   "outputs": [],
   "source": [
    "training_set, validation_set = train_test_split(sub_set,\n",
    "                                          test_size = 0.15,\n",
    "                                          random_state = 42)"
   ]
  },
  {
   "cell_type": "code",
   "execution_count": 7,
   "metadata": {},
   "outputs": [],
   "source": [
    "training_majority = training_set[training_set[\"Churn\"] == 0]"
   ]
  },
  {
   "cell_type": "code",
   "execution_count": 8,
   "metadata": {},
   "outputs": [
    {
     "data": {
      "text/plain": [
       "(3320, 46)"
      ]
     },
     "execution_count": 8,
     "metadata": {},
     "output_type": "execute_result"
    }
   ],
   "source": [
    "training_majority.shape"
   ]
  },
  {
   "cell_type": "code",
   "execution_count": 9,
   "metadata": {},
   "outputs": [],
   "source": [
    "training_minority = training_set[training_set[\"Churn\"] == 1]"
   ]
  },
  {
   "cell_type": "code",
   "execution_count": 10,
   "metadata": {},
   "outputs": [],
   "source": [
    "training_match = resample(training_minority, \n",
    "                     n_samples=3892,\n",
    "                     replace=True, \n",
    "                     random_state=42)"
   ]
  },
  {
   "cell_type": "code",
   "execution_count": 11,
   "metadata": {},
   "outputs": [
    {
     "data": {
      "text/plain": [
       "(3892, 46)"
      ]
     },
     "execution_count": 11,
     "metadata": {},
     "output_type": "execute_result"
    }
   ],
   "source": [
    "training_match.shape"
   ]
  },
  {
   "cell_type": "code",
   "execution_count": 12,
   "metadata": {},
   "outputs": [],
   "source": [
    "training_set_final = pd.concat([training_majority, training_match])"
   ]
  },
  {
   "cell_type": "code",
   "execution_count": 13,
   "metadata": {},
   "outputs": [
    {
     "data": {
      "text/plain": [
       "1    3892\n",
       "0    3320\n",
       "Name: Churn, dtype: int64"
      ]
     },
     "execution_count": 13,
     "metadata": {},
     "output_type": "execute_result"
    }
   ],
   "source": [
    "training_set_final[\"Churn\"].value_counts()"
   ]
  },
  {
   "cell_type": "code",
   "execution_count": 14,
   "metadata": {},
   "outputs": [],
   "source": [
    "feature_space = training_set_final.iloc[:, training_set_final.columns != \"Churn\"]\n",
    "feature_class = training_set_final.iloc[:, training_set_final.columns == \"Churn\"]"
   ]
  },
  {
   "cell_type": "code",
   "execution_count": 15,
   "metadata": {
    "scrolled": true
   },
   "outputs": [
    {
     "data": {
      "text/html": [
       "<div>\n",
       "<style scoped>\n",
       "    .dataframe tbody tr th:only-of-type {\n",
       "        vertical-align: middle;\n",
       "    }\n",
       "\n",
       "    .dataframe tbody tr th {\n",
       "        vertical-align: top;\n",
       "    }\n",
       "\n",
       "    .dataframe thead th {\n",
       "        text-align: right;\n",
       "    }\n",
       "</style>\n",
       "<table border=\"1\" class=\"dataframe\">\n",
       "  <thead>\n",
       "    <tr style=\"text-align: right;\">\n",
       "      <th></th>\n",
       "      <th>SeniorCitizen</th>\n",
       "      <th>tenure</th>\n",
       "      <th>MonthlyCharges</th>\n",
       "      <th>TotalCharges</th>\n",
       "      <th>gender_Female</th>\n",
       "      <th>gender_Male</th>\n",
       "      <th>Partner_No</th>\n",
       "      <th>Partner_Yes</th>\n",
       "      <th>Dependents_No</th>\n",
       "      <th>Dependents_Yes</th>\n",
       "      <th>...</th>\n",
       "      <th>StreamingTV_Yes</th>\n",
       "      <th>Contract_Month-to-month</th>\n",
       "      <th>Contract_One year</th>\n",
       "      <th>Contract_Two year</th>\n",
       "      <th>PaperlessBilling_No</th>\n",
       "      <th>PaperlessBilling_Yes</th>\n",
       "      <th>PaymentMethod_Bank transfer (automatic)</th>\n",
       "      <th>PaymentMethod_Credit card (automatic)</th>\n",
       "      <th>PaymentMethod_Electronic check</th>\n",
       "      <th>PaymentMethod_Mailed check</th>\n",
       "    </tr>\n",
       "  </thead>\n",
       "  <tbody>\n",
       "    <tr>\n",
       "      <th>5471</th>\n",
       "      <td>0</td>\n",
       "      <td>29</td>\n",
       "      <td>74.20</td>\n",
       "      <td>1993.25</td>\n",
       "      <td>1</td>\n",
       "      <td>0</td>\n",
       "      <td>1</td>\n",
       "      <td>0</td>\n",
       "      <td>1</td>\n",
       "      <td>0</td>\n",
       "      <td>...</td>\n",
       "      <td>0</td>\n",
       "      <td>1</td>\n",
       "      <td>0</td>\n",
       "      <td>0</td>\n",
       "      <td>0</td>\n",
       "      <td>1</td>\n",
       "      <td>0</td>\n",
       "      <td>0</td>\n",
       "      <td>1</td>\n",
       "      <td>0</td>\n",
       "    </tr>\n",
       "    <tr>\n",
       "      <th>781</th>\n",
       "      <td>0</td>\n",
       "      <td>5</td>\n",
       "      <td>44.80</td>\n",
       "      <td>220.45</td>\n",
       "      <td>1</td>\n",
       "      <td>0</td>\n",
       "      <td>0</td>\n",
       "      <td>1</td>\n",
       "      <td>0</td>\n",
       "      <td>1</td>\n",
       "      <td>...</td>\n",
       "      <td>0</td>\n",
       "      <td>1</td>\n",
       "      <td>0</td>\n",
       "      <td>0</td>\n",
       "      <td>1</td>\n",
       "      <td>0</td>\n",
       "      <td>0</td>\n",
       "      <td>0</td>\n",
       "      <td>0</td>\n",
       "      <td>1</td>\n",
       "    </tr>\n",
       "    <tr>\n",
       "      <th>6153</th>\n",
       "      <td>0</td>\n",
       "      <td>60</td>\n",
       "      <td>20.95</td>\n",
       "      <td>1270.55</td>\n",
       "      <td>0</td>\n",
       "      <td>1</td>\n",
       "      <td>0</td>\n",
       "      <td>1</td>\n",
       "      <td>0</td>\n",
       "      <td>1</td>\n",
       "      <td>...</td>\n",
       "      <td>0</td>\n",
       "      <td>0</td>\n",
       "      <td>0</td>\n",
       "      <td>1</td>\n",
       "      <td>0</td>\n",
       "      <td>1</td>\n",
       "      <td>1</td>\n",
       "      <td>0</td>\n",
       "      <td>0</td>\n",
       "      <td>0</td>\n",
       "    </tr>\n",
       "    <tr>\n",
       "      <th>3365</th>\n",
       "      <td>0</td>\n",
       "      <td>19</td>\n",
       "      <td>19.65</td>\n",
       "      <td>358.15</td>\n",
       "      <td>0</td>\n",
       "      <td>1</td>\n",
       "      <td>1</td>\n",
       "      <td>0</td>\n",
       "      <td>1</td>\n",
       "      <td>0</td>\n",
       "      <td>...</td>\n",
       "      <td>0</td>\n",
       "      <td>0</td>\n",
       "      <td>0</td>\n",
       "      <td>1</td>\n",
       "      <td>1</td>\n",
       "      <td>0</td>\n",
       "      <td>0</td>\n",
       "      <td>0</td>\n",
       "      <td>0</td>\n",
       "      <td>1</td>\n",
       "    </tr>\n",
       "    <tr>\n",
       "      <th>3292</th>\n",
       "      <td>0</td>\n",
       "      <td>5</td>\n",
       "      <td>50.95</td>\n",
       "      <td>229.40</td>\n",
       "      <td>1</td>\n",
       "      <td>0</td>\n",
       "      <td>1</td>\n",
       "      <td>0</td>\n",
       "      <td>1</td>\n",
       "      <td>0</td>\n",
       "      <td>...</td>\n",
       "      <td>1</td>\n",
       "      <td>1</td>\n",
       "      <td>0</td>\n",
       "      <td>0</td>\n",
       "      <td>0</td>\n",
       "      <td>1</td>\n",
       "      <td>0</td>\n",
       "      <td>1</td>\n",
       "      <td>0</td>\n",
       "      <td>0</td>\n",
       "    </tr>\n",
       "  </tbody>\n",
       "</table>\n",
       "<p>5 rows × 45 columns</p>\n",
       "</div>"
      ],
      "text/plain": [
       "      SeniorCitizen  tenure  MonthlyCharges  TotalCharges  gender_Female  \\\n",
       "5471              0      29           74.20       1993.25              1   \n",
       "781               0       5           44.80        220.45              1   \n",
       "6153              0      60           20.95       1270.55              0   \n",
       "3365              0      19           19.65        358.15              0   \n",
       "3292              0       5           50.95        229.40              1   \n",
       "\n",
       "      gender_Male  Partner_No  Partner_Yes  Dependents_No  Dependents_Yes  \\\n",
       "5471            0           1            0              1               0   \n",
       "781             0           0            1              0               1   \n",
       "6153            1           0            1              0               1   \n",
       "3365            1           1            0              1               0   \n",
       "3292            0           1            0              1               0   \n",
       "\n",
       "                 ...              StreamingTV_Yes  Contract_Month-to-month  \\\n",
       "5471             ...                            0                        1   \n",
       "781              ...                            0                        1   \n",
       "6153             ...                            0                        0   \n",
       "3365             ...                            0                        0   \n",
       "3292             ...                            1                        1   \n",
       "\n",
       "      Contract_One year  Contract_Two year  PaperlessBilling_No  \\\n",
       "5471                  0                  0                    0   \n",
       "781                   0                  0                    1   \n",
       "6153                  0                  1                    0   \n",
       "3365                  0                  1                    1   \n",
       "3292                  0                  0                    0   \n",
       "\n",
       "      PaperlessBilling_Yes  PaymentMethod_Bank transfer (automatic)  \\\n",
       "5471                     1                                        0   \n",
       "781                      0                                        0   \n",
       "6153                     1                                        1   \n",
       "3365                     0                                        0   \n",
       "3292                     1                                        0   \n",
       "\n",
       "      PaymentMethod_Credit card (automatic)  PaymentMethod_Electronic check  \\\n",
       "5471                                      0                               1   \n",
       "781                                       0                               0   \n",
       "6153                                      0                               0   \n",
       "3365                                      0                               0   \n",
       "3292                                      1                               0   \n",
       "\n",
       "      PaymentMethod_Mailed check  \n",
       "5471                           0  \n",
       "781                            1  \n",
       "6153                           0  \n",
       "3365                           1  \n",
       "3292                           0  \n",
       "\n",
       "[5 rows x 45 columns]"
      ]
     },
     "execution_count": 15,
     "metadata": {},
     "output_type": "execute_result"
    }
   ],
   "source": [
    "feature_space.head()"
   ]
  },
  {
   "cell_type": "markdown",
   "metadata": {},
   "source": [
    "# Fitting Model "
   ]
  },
  {
   "cell_type": "code",
   "execution_count": 16,
   "metadata": {},
   "outputs": [],
   "source": [
    "fit_gb = GradientBoostingClassifier(random_state=42,\n",
    "                                    n_estimators=500)"
   ]
  },
  {
   "cell_type": "markdown",
   "metadata": {},
   "source": [
    "# Parameter Grid Search"
   ]
  },
  {
   "cell_type": "code",
   "execution_count": 17,
   "metadata": {},
   "outputs": [
    {
     "name": "stdout",
     "output_type": "stream",
     "text": [
      "Best Parameters using grid search: \n",
      " {'learning_rate': 0.3, 'max_features': 'auto', 'max_depth': 3, 'loss': 'deviance'}\n",
      "Time taken in grid search:  880.55\n"
     ]
    }
   ],
   "source": [
    "np.random.seed(42)\n",
    "start = time.time()\n",
    "\n",
    "param_dist = {\"loss\": [\"deviance\", \"exponential\"],\n",
    "              \"learning_rate\": [0.1, 0.2, 0.3],\n",
    "              \"max_features\": ['auto', 'sqrt', 'log2', None],\n",
    "              \"max_depth\": [3, 2, 1]}\n",
    "\n",
    "cv_gb = GridSearchCV(fit_gb, cv = 10,\n",
    "                     param_grid=param_dist, \n",
    "                     n_jobs = 3)\n",
    "\n",
    "cv_gb.fit(feature_space, feature_class[\"Churn\"])\n",
    "print('Best Parameters using grid search: \\n', \n",
    "      cv_gb.best_params_)\n",
    "end = time.time()\n",
    "print('Time taken in grid search: {0: .2f}'.format(end - start))"
   ]
  },
  {
   "cell_type": "code",
   "execution_count": 18,
   "metadata": {},
   "outputs": [
    {
     "data": {
      "text/plain": [
       "GradientBoostingClassifier(criterion='friedman_mse', init=None,\n",
       "              learning_rate=0.3, loss='deviance', max_depth=3,\n",
       "              max_features='auto', max_leaf_nodes=None,\n",
       "              min_impurity_decrease=0.0, min_impurity_split=None,\n",
       "              min_samples_leaf=1, min_samples_split=2,\n",
       "              min_weight_fraction_leaf=0.0, n_estimators=500,\n",
       "              presort='auto', random_state=42, subsample=1.0, verbose=0,\n",
       "              warm_start=False)"
      ]
     },
     "execution_count": 18,
     "metadata": {},
     "output_type": "execute_result"
    }
   ],
   "source": [
    "fit_gb.set_params(learning_rate=0.3, \n",
    "                  max_depth=3, \n",
    "                  loss=\"deviance\", \n",
    "                  max_features=\"auto\")"
   ]
  },
  {
   "cell_type": "code",
   "execution_count": 19,
   "metadata": {},
   "outputs": [
    {
     "data": {
      "text/plain": [
       "GradientBoostingClassifier(criterion='friedman_mse', init=None,\n",
       "              learning_rate=0.3, loss='deviance', max_depth=3,\n",
       "              max_features='auto', max_leaf_nodes=None,\n",
       "              min_impurity_decrease=0.0, min_impurity_split=None,\n",
       "              min_samples_leaf=1, min_samples_split=2,\n",
       "              min_weight_fraction_leaf=0.0, n_estimators=500,\n",
       "              presort='auto', random_state=42, subsample=1.0, verbose=0,\n",
       "              warm_start=False)"
      ]
     },
     "execution_count": 19,
     "metadata": {},
     "output_type": "execute_result"
    }
   ],
   "source": [
    "fit_gb.fit(feature_space, feature_class[\"Churn\"])\n"
   ]
  },
  {
   "cell_type": "markdown",
   "metadata": {},
   "source": [
    "# Feature Importance"
   ]
  },
  {
   "cell_type": "code",
   "execution_count": 20,
   "metadata": {},
   "outputs": [],
   "source": [
    "importances_gb = fit_gb.feature_importances_\n",
    "indices_gb = np.argsort(importances_gb)[::-1]"
   ]
  },
  {
   "cell_type": "code",
   "execution_count": 21,
   "metadata": {},
   "outputs": [],
   "source": [
    "names_index = customer_churn_new.columns.tolist()\n",
    "names_index.remove(\"Churn\")"
   ]
  },
  {
   "cell_type": "code",
   "execution_count": 22,
   "metadata": {},
   "outputs": [],
   "source": [
    "def variable_importance(importance, indices):\n",
    "    \"\"\"\n",
    "    Purpose:\n",
    "    ----------\n",
    "    Prints dependent variable names ordered from largest to smallest\n",
    "    based on gini or information gain for CART model. \n",
    "    \n",
    "    Parameters:\n",
    "    ----------\n",
    "    names:      Name of columns included in model\n",
    "    importance: Array returned from feature_importances_ for CART\n",
    "                   models organized by dataframe index\n",
    "    indices:    Organized index of dataframe from largest to smallest\n",
    "                   based on feature_importances_\n",
    "\n",
    "    Returns:\n",
    "    ----------\n",
    "    Print statement outputting variable importance in descending order\n",
    "    \"\"\"\n",
    "    print(\"Feature ranking:\")\n",
    "    \n",
    "    for f in range(len(names_index)):\n",
    "        i = f\n",
    "        print(\"%d. The feature '%s' \\\n",
    "has a Mean Decrease in Gini of %f\" % (f + 1, \n",
    "                                         names_index[indices[i]], \n",
    "                                         importance[indices[f]]))"
   ]
  },
  {
   "cell_type": "code",
   "execution_count": 23,
   "metadata": {},
   "outputs": [
    {
     "name": "stdout",
     "output_type": "stream",
     "text": [
      "Feature ranking:\n",
      "1. The feature 'TotalCharges' has a Mean Decrease in Gini of 0.401059\n",
      "2. The feature 'MonthlyCharges' has a Mean Decrease in Gini of 0.284867\n",
      "3. The feature 'tenure' has a Mean Decrease in Gini of 0.070974\n",
      "4. The feature 'PaymentMethod_Electronic check' has a Mean Decrease in Gini of 0.013859\n",
      "5. The feature 'Contract_Month-to-month' has a Mean Decrease in Gini of 0.013514\n",
      "6. The feature 'Contract_One year' has a Mean Decrease in Gini of 0.013269\n",
      "7. The feature 'SeniorCitizen' has a Mean Decrease in Gini of 0.012148\n",
      "8. The feature 'PaymentMethod_Mailed check' has a Mean Decrease in Gini of 0.011201\n",
      "9. The feature 'gender_Male' has a Mean Decrease in Gini of 0.011030\n",
      "10. The feature 'Dependents_No' has a Mean Decrease in Gini of 0.010102\n",
      "11. The feature 'PaymentMethod_Bank transfer (automatic)' has a Mean Decrease in Gini of 0.009669\n",
      "12. The feature 'TechSupport_No' has a Mean Decrease in Gini of 0.009451\n",
      "13. The feature 'PaymentMethod_Credit card (automatic)' has a Mean Decrease in Gini of 0.008977\n",
      "14. The feature 'OnlineSecurity_Yes' has a Mean Decrease in Gini of 0.008227\n",
      "15. The feature 'PaperlessBilling_No' has a Mean Decrease in Gini of 0.007783\n",
      "16. The feature 'Partner_Yes' has a Mean Decrease in Gini of 0.007408\n",
      "17. The feature 'OnlineBackup_Yes' has a Mean Decrease in Gini of 0.007307\n",
      "18. The feature 'MultipleLines_No' has a Mean Decrease in Gini of 0.007255\n",
      "19. The feature 'gender_Female' has a Mean Decrease in Gini of 0.007217\n",
      "20. The feature 'Partner_No' has a Mean Decrease in Gini of 0.007092\n",
      "21. The feature 'StreamingMovies_Yes' has a Mean Decrease in Gini of 0.007054\n",
      "22. The feature 'Dependents_Yes' has a Mean Decrease in Gini of 0.006679\n",
      "23. The feature 'MultipleLines_Yes' has a Mean Decrease in Gini of 0.006406\n",
      "24. The feature 'OnlineSecurity_No' has a Mean Decrease in Gini of 0.006281\n",
      "25. The feature 'TechSupport_Yes' has a Mean Decrease in Gini of 0.006270\n",
      "26. The feature 'DeviceProtection_Yes' has a Mean Decrease in Gini of 0.006092\n",
      "27. The feature 'StreamingTV_Yes' has a Mean Decrease in Gini of 0.005117\n",
      "28. The feature 'OnlineBackup_No' has a Mean Decrease in Gini of 0.004683\n",
      "29. The feature 'StreamingTV_No' has a Mean Decrease in Gini of 0.004558\n",
      "30. The feature 'Contract_Two year' has a Mean Decrease in Gini of 0.004450\n",
      "31. The feature 'InternetService_DSL' has a Mean Decrease in Gini of 0.004004\n",
      "32. The feature 'DeviceProtection_No' has a Mean Decrease in Gini of 0.003965\n",
      "33. The feature 'InternetService_Fiber optic' has a Mean Decrease in Gini of 0.003168\n",
      "34. The feature 'PaperlessBilling_Yes' has a Mean Decrease in Gini of 0.003089\n",
      "35. The feature 'StreamingMovies_No' has a Mean Decrease in Gini of 0.003068\n",
      "36. The feature 'PhoneService_Yes' has a Mean Decrease in Gini of 0.001174\n",
      "37. The feature 'PhoneService_No' has a Mean Decrease in Gini of 0.000608\n",
      "38. The feature 'MultipleLines_No phone service' has a Mean Decrease in Gini of 0.000552\n",
      "39. The feature 'StreamingTV_No internet service' has a Mean Decrease in Gini of 0.000368\n",
      "40. The feature 'InternetService_No' has a Mean Decrease in Gini of 0.000000\n",
      "41. The feature 'OnlineSecurity_No internet service' has a Mean Decrease in Gini of 0.000000\n",
      "42. The feature 'DeviceProtection_No internet service' has a Mean Decrease in Gini of 0.000000\n",
      "43. The feature 'TechSupport_No internet service' has a Mean Decrease in Gini of 0.000000\n",
      "44. The feature 'StreamingMovies_No internet service' has a Mean Decrease in Gini of 0.000000\n",
      "45. The feature 'OnlineBackup_No internet service' has a Mean Decrease in Gini of 0.000000\n"
     ]
    }
   ],
   "source": [
    "variable_importance(importances_gb, indices_gb)"
   ]
  },
  {
   "cell_type": "code",
   "execution_count": 24,
   "metadata": {},
   "outputs": [],
   "source": [
    "def variable_importance_plot(importance, indices):\n",
    "    \"\"\"\n",
    "    Purpose\n",
    "    ----------\n",
    "    Prints bar chart detailing variable importance for CART model\n",
    "    NOTE: feature_space list was created because the bar chart\n",
    "    was transposed and index would be in incorrect order.\n",
    "    Parameters\n",
    "    ----------\n",
    "    importance_desc: Array returned from feature_importances_ for CART\n",
    "                    models organized in descending order\n",
    "    indices: Organized index of dataframe from largest to smallest\n",
    "                    based on feature_importances_\n",
    "    Returns:\n",
    "    ----------\n",
    "    Returns variable importance plot in descending order\n",
    "    \"\"\"\n",
    "    index = np.arange(len(names_index))\n",
    "\n",
    "    importance_desc = sorted(importance)\n",
    "    feature_space = []\n",
    "    for i in range(44, -1, -1):\n",
    "        feature_space.append(names_index[indices[i]])\n",
    "\n",
    "    fig, ax = plt.subplots(figsize=(10, 10))\n",
    "\n",
    "    ax.set_facecolor('#fafafa')\n",
    "    plt.title('Feature importances for Random Forest Model\\\n",
    "    \\nBreast Cancer (Diagnostic)')\n",
    "    plt.barh(index,\n",
    "         importance_desc,\n",
    "         align=\"center\",\n",
    "         color = '#875FDB')\n",
    "    plt.yticks(index,\n",
    "           feature_space)\n",
    "\n",
    "    plt.ylim(-1, 45)\n",
    "    plt.xlim(0, max(importance_desc) + 0.01)\n",
    "    plt.xlabel('Mean Decrease in Gini')\n",
    "    plt.ylabel('Feature')\n",
    "\n",
    "    plt.show()"
   ]
  },
  {
   "cell_type": "code",
   "execution_count": 25,
   "metadata": {
    "scrolled": true
   },
   "outputs": [
    {
     "data": {
      "image/png": "[encoded data removed]",
      "text/plain": [
       "<matplotlib.figure.Figure at 0x7fa9e45ecb38>"
      ]
     },
     "metadata": {},
     "output_type": "display_data"
    }
   ],
   "source": [
    "variable_importance_plot(importances_gb, indices_gb)"
   ]
  },
  {
   "cell_type": "markdown",
   "metadata": {},
   "source": [
    "# Cross Validation"
   ]
  },
  {
   "cell_type": "code",
   "execution_count": 26,
   "metadata": {},
   "outputs": [],
   "source": [
    "validation_space = validation_set.iloc[:, validation_set.columns != 'Churn']\n",
    "validation_class = validation_set.iloc[:, validation_set.columns == 'Churn']\n",
    "validation_class_set = validation_class.values.ravel()"
   ]
  },
  {
   "cell_type": "code",
   "execution_count": 27,
   "metadata": {},
   "outputs": [
    {
     "name": "stderr",
     "output_type": "stream",
     "text": [
      "[Parallel(n_jobs=1)]: Done  10 out of  10 | elapsed:    7.7s finished\n"
     ]
    }
   ],
   "source": [
    "n = KFold(n_splits=10)\n",
    "cross_val_gb = cross_val_score(fit_gb, \n",
    "                validation_space, \n",
    "                validation_class[\"Churn\"], \n",
    "                cv = n,\n",
    "                verbose=1)"
   ]
  },
  {
   "cell_type": "code",
   "execution_count": 28,
   "metadata": {},
   "outputs": [
    {
     "name": "stdout",
     "output_type": "stream",
     "text": [
      "Cross Validation Job 0:  0.863\n",
      "Cross Validation Job 1:  0.787\n",
      "Cross Validation Job 2:  0.738\n",
      "Cross Validation Job 3:  0.772\n",
      "Cross Validation Job 4:  0.734\n",
      "Cross Validation Job 5:  0.759\n",
      "Cross Validation Job 6:  0.734\n",
      "Cross Validation Job 7:  0.722\n",
      "Cross Validation Job 8:  0.823\n",
      "Cross Validation Job 9:  0.696\n",
      "Cross Validation Average:  0.763 (+/-  0.024)\n"
     ]
    }
   ],
   "source": [
    "for i in range(0, len(cross_val_gb)):\n",
    "    print(\"Cross Validation Job {0}: {1: 0.3f}\".format(i, cross_val_gb[i]))\n",
    "print(\"Cross Validation Average: {0: 0.3f} (+/- {1: 0.3f})\".format(cross_val_gb.mean(), cross_val_gb.std() /2))"
   ]
  },
  {
   "cell_type": "markdown",
   "metadata": {},
   "source": [
    "# Test Set Metrics\n",
    "Now that I've decided that this model is the best we will compare to unseen data. "
   ]
  },
  {
   "cell_type": "code",
   "execution_count": 29,
   "metadata": {},
   "outputs": [],
   "source": [
    "def plot_roc_curve(fpr, tpr, auc, mod, xlim=None, ylim=None):\n",
    "    \"\"\"\n",
    "    Purpose\n",
    "    ----------\n",
    "    Function creates ROC Curve for respective model given selected parameters.\n",
    "    Optional x and y limits to zoom into graph\n",
    "    Parameters\n",
    "    ----------\n",
    "    * fpr: Array returned from sklearn.metrics.roc_curve for increasing\n",
    "            false positive rates\n",
    "    * tpr: Array returned from sklearn.metrics.roc_curve for increasing\n",
    "            true positive rates\n",
    "    * auc: Float returned from sklearn.metrics.auc (Area under Curve)\n",
    "    * mod: \tString represenation of appropriate model, can only contain the\n",
    "            following: ['knn', 'rf', 'nn']\n",
    "    * xlim: Set upper and lower x-limits\n",
    "    * ylim: Set upper and lower y-limits\n",
    "    \"\"\"\n",
    "    mod_list = ['gb']\n",
    "    method = [('Gradient Boosting Machine', 'navy')]\n",
    "\n",
    "    plot_title = ''\n",
    "    color_value = ''\n",
    "    for i in range(0, len(mod_list)):\n",
    "        if mod_list[i] == mod:\n",
    "            plot_title = method[i][0]\n",
    "            color_value = method[i][1]\n",
    "\n",
    "    fig, ax = plt.subplots(figsize=(10, 10))\n",
    "    ax.set_facecolor('#fafafa')\n",
    "\n",
    "    plt.plot(fpr, tpr,\n",
    "        color=color_value,\n",
    "        linewidth=1)\n",
    "    plt.title('ROC Curve For {0} (AUC = {1: 0.3f})'\\\n",
    "        .format(plot_title, auc))\n",
    "\n",
    "    plt.plot([0, 1], [0, 1], 'k--', lw=2) # Add Diagonal line\n",
    "    plt.plot([0, 0], [1, 0], 'k--', lw=2, color = 'black')\n",
    "    plt.plot([1, 0], [1, 1], 'k--', lw=2, color = 'black')\n",
    "    if xlim is not None:\n",
    "        plt.xlim(*xlim)\n",
    "    if ylim is not None:\n",
    "        plt.ylim(*ylim)\n",
    "    plt.xlabel('False Positive Rate')\n",
    "    plt.ylabel('True Positive Rate')\n",
    "    plt.show()"
   ]
  },
  {
   "cell_type": "code",
   "execution_count": 30,
   "metadata": {},
   "outputs": [
    {
     "name": "stdout",
     "output_type": "stream",
     "text": [
      "(7043, 46)\n",
      "(4489, 46)\n",
      "(793, 45)\n",
      "(1761, 46)\n"
     ]
    }
   ],
   "source": [
    "print(customer_churn_new.shape)\n",
    "print(training_set.shape)\n",
    "print(validation_space.shape)\n",
    "print(test_set.shape)"
   ]
  },
  {
   "cell_type": "code",
   "execution_count": 31,
   "metadata": {},
   "outputs": [],
   "source": [
    "test_set_feat = test_set.iloc[:, test_set.columns != \"Churn\"]\n",
    "test_class_set = test_set.iloc[:, test_set.columns == \"Churn\"]"
   ]
  },
  {
   "cell_type": "code",
   "execution_count": 32,
   "metadata": {},
   "outputs": [],
   "source": [
    "predictions_prob = fit_gb.predict_proba(test_set_feat)[:, 1]\n",
    "\n",
    "# ROC Curve stuff\n",
    "fpr2, tpr2, _ = roc_curve(test_class_set[\"Churn\"],\n",
    "    predictions_prob)\n",
    "\n",
    "auc_gb = auc(fpr2, tpr2)"
   ]
  },
  {
   "cell_type": "code",
   "execution_count": 33,
   "metadata": {},
   "outputs": [
    {
     "data": {
      "image/png": "[encoded data removed]",
      "text/plain": [
       "<matplotlib.figure.Figure at 0x7fa9e44c7400>"
      ]
     },
     "metadata": {},
     "output_type": "display_data"
    }
   ],
   "source": [
    "plot_roc_curve(fpr2, tpr2, auc_gb, \"gb\",\n",
    "               xlim=(-0.01, 1.05), \n",
    "               ylim=(0.001, 1.05))"
   ]
  },
  {
   "cell_type": "code",
   "execution_count": 34,
   "metadata": {},
   "outputs": [],
   "source": [
    "predictions_gb = fit_gb.predict(test_set_feat)"
   ]
  },
  {
   "cell_type": "code",
   "execution_count": 35,
   "metadata": {},
   "outputs": [
    {
     "name": "stdout",
     "output_type": "stream",
     "text": [
      " 23.169% test error rate\n"
     ]
    }
   ],
   "source": [
    "print(\"{0: 0.3f}% test error rate\".format((1 - fit_gb.score(test_set_feat, test_class_set[\"Churn\"])) * 100))"
   ]
  },
  {
   "cell_type": "code",
   "execution_count": 36,
   "metadata": {},
   "outputs": [],
   "source": [
    "test_crosstb_comp = pd.crosstab(index = test_class_set[\"Churn\"],\n",
    "                           columns = predictions_gb)\n",
    "\n",
    "test_crosstb = test_crosstb_comp.as_matrix()"
   ]
  },
  {
   "cell_type": "code",
   "execution_count": 37,
   "metadata": {},
   "outputs": [
    {
     "data": {
      "image/png": "[encoded data removed]",
      "text/plain": [
       "<matplotlib.figure.Figure at 0x7fa9e4526390>"
      ]
     },
     "metadata": {},
     "output_type": "display_data"
    }
   ],
   "source": [
    "sns.heatmap(test_crosstb_comp,\n",
    "           annot=True,\n",
    "           fmt=\".0f\")\n",
    "plt.xlabel(\"Actual Values\")\n",
    "plt.ylabel(\"Predicted Values\")\n",
    "plt.title(\"Actual Vs. Predicted Values for Test Set\")\n",
    "plt.show()"
   ]
  },
  {
   "cell_type": "code",
   "execution_count": null,
   "metadata": {},
   "outputs": [],
   "source": []
  }
 ],
 "metadata": {
  "kernelspec": {
   "display_name": "Python 3",
   "language": "python",
   "name": "python3"
  },
  "language_info": {
   "codemirror_mode": {
    "name": "ipython",
    "version": 3
   },
   "file_extension": ".py",
   "mimetype": "text/x-python",
   "name": "python",
   "nbconvert_exporter": "python",
   "pygments_lexer": "ipython3",
   "version": "3.5.2"
  }
 },
 "nbformat": 4,
 "nbformat_minor": 2
}
