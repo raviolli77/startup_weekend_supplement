{
 "cells": [
  {
   "cell_type": "markdown",
   "metadata": {},
   "source": [
    "# Load Packages"
   ]
  },
  {
   "cell_type": "code",
   "execution_count": 1,
   "metadata": {},
   "outputs": [],
   "source": [
    "import random\n",
    "import numpy as np\n",
    "import pandas as pd\n",
    "import matplotlib.pyplot as plt\n",
    "import seaborn as sns\n",
    "from sklearn.neighbors import NearestNeighbors\n",
    "from sklearn.model_selection import train_test_split"
   ]
  },
  {
   "cell_type": "markdown",
   "metadata": {},
   "source": [
    "# Load Data"
   ]
  },
  {
   "cell_type": "code",
   "execution_count": 2,
   "metadata": {},
   "outputs": [],
   "source": [
    "spotify = pd.read_csv(\"song_data_cleaned.csv\")\n",
    "spotify.set_index(\"songid\", inplace=True)\n",
    "spotify.drop_duplicates(inplace=True)"
   ]
  },
  {
   "cell_type": "markdown",
   "metadata": {},
   "source": [
    "Create a data frame which keeps artist name and title of song, since these variables will not be included in the algorithm"
   ]
  },
  {
   "cell_type": "code",
   "execution_count": 3,
   "metadata": {},
   "outputs": [],
   "source": [
    "meta_data = spotify[[\"song_title\", \"artist_name\"]]"
   ]
  },
  {
   "cell_type": "markdown",
   "metadata": {},
   "source": [
    "Clean data frame"
   ]
  },
  {
   "cell_type": "code",
   "execution_count": 4,
   "metadata": {},
   "outputs": [],
   "source": [
    "del spotify[\"Unnamed: 0\"]\n",
    "del spotify[\"song_title\"]\n",
    "del spotify[\"artist_name\"]"
   ]
  },
  {
   "cell_type": "code",
   "execution_count": 5,
   "metadata": {},
   "outputs": [
    {
     "data": {
      "text/html": [
       "<div>\n",
       "<style scoped>\n",
       "    .dataframe tbody tr th:only-of-type {\n",
       "        vertical-align: middle;\n",
       "    }\n",
       "\n",
       "    .dataframe tbody tr th {\n",
       "        vertical-align: top;\n",
       "    }\n",
       "\n",
       "    .dataframe thead th {\n",
       "        text-align: right;\n",
       "    }\n",
       "</style>\n",
       "<table border=\"1\" class=\"dataframe\">\n",
       "  <thead>\n",
       "    <tr style=\"text-align: right;\">\n",
       "      <th></th>\n",
       "      <th>popularity</th>\n",
       "      <th>danceability</th>\n",
       "      <th>energy</th>\n",
       "      <th>key</th>\n",
       "      <th>loudness</th>\n",
       "      <th>speechiness</th>\n",
       "      <th>acousticness</th>\n",
       "      <th>instrumentalness</th>\n",
       "      <th>liveness</th>\n",
       "      <th>valence</th>\n",
       "      <th>tempo</th>\n",
       "      <th>time_signature</th>\n",
       "      <th>category</th>\n",
       "    </tr>\n",
       "    <tr>\n",
       "      <th>songid</th>\n",
       "      <th></th>\n",
       "      <th></th>\n",
       "      <th></th>\n",
       "      <th></th>\n",
       "      <th></th>\n",
       "      <th></th>\n",
       "      <th></th>\n",
       "      <th></th>\n",
       "      <th></th>\n",
       "      <th></th>\n",
       "      <th></th>\n",
       "      <th></th>\n",
       "      <th></th>\n",
       "    </tr>\n",
       "  </thead>\n",
       "  <tbody>\n",
       "    <tr>\n",
       "      <th>4cqVjzC0AxeDmdeJbV3lHH</th>\n",
       "      <td>47</td>\n",
       "      <td>0.515</td>\n",
       "      <td>0.335</td>\n",
       "      <td>7</td>\n",
       "      <td>-12.794</td>\n",
       "      <td>0.0292</td>\n",
       "      <td>0.6240</td>\n",
       "      <td>0.005590</td>\n",
       "      <td>0.1220</td>\n",
       "      <td>0.0625</td>\n",
       "      <td>95.032</td>\n",
       "      <td>4</td>\n",
       "      <td>Pop</td>\n",
       "    </tr>\n",
       "    <tr>\n",
       "      <th>4WtOFEQOJ3TOPL9iRKWJ95</th>\n",
       "      <td>45</td>\n",
       "      <td>0.843</td>\n",
       "      <td>0.431</td>\n",
       "      <td>1</td>\n",
       "      <td>-9.486</td>\n",
       "      <td>0.0692</td>\n",
       "      <td>0.3600</td>\n",
       "      <td>0.000038</td>\n",
       "      <td>0.2970</td>\n",
       "      <td>0.3960</td>\n",
       "      <td>97.993</td>\n",
       "      <td>4</td>\n",
       "      <td>Pop</td>\n",
       "    </tr>\n",
       "    <tr>\n",
       "      <th>6ht5cDaJsrvWXCOd0vkIsX</th>\n",
       "      <td>45</td>\n",
       "      <td>0.591</td>\n",
       "      <td>0.797</td>\n",
       "      <td>7</td>\n",
       "      <td>-3.544</td>\n",
       "      <td>0.1090</td>\n",
       "      <td>0.0994</td>\n",
       "      <td>0.000000</td>\n",
       "      <td>0.0797</td>\n",
       "      <td>0.7850</td>\n",
       "      <td>89.968</td>\n",
       "      <td>4</td>\n",
       "      <td>Pop</td>\n",
       "    </tr>\n",
       "    <tr>\n",
       "      <th>2Ok9PIQhVkKAaPTMbM4EvS</th>\n",
       "      <td>62</td>\n",
       "      <td>0.333</td>\n",
       "      <td>0.349</td>\n",
       "      <td>3</td>\n",
       "      <td>-8.062</td>\n",
       "      <td>0.0398</td>\n",
       "      <td>0.8740</td>\n",
       "      <td>0.000000</td>\n",
       "      <td>0.1440</td>\n",
       "      <td>0.4180</td>\n",
       "      <td>208.787</td>\n",
       "      <td>4</td>\n",
       "      <td>Pop</td>\n",
       "    </tr>\n",
       "    <tr>\n",
       "      <th>6hGysJfPg591z5fqvTYL8O</th>\n",
       "      <td>55</td>\n",
       "      <td>0.592</td>\n",
       "      <td>0.857</td>\n",
       "      <td>6</td>\n",
       "      <td>-6.817</td>\n",
       "      <td>0.0315</td>\n",
       "      <td>0.0512</td>\n",
       "      <td>0.000003</td>\n",
       "      <td>0.3340</td>\n",
       "      <td>0.5050</td>\n",
       "      <td>107.092</td>\n",
       "      <td>4</td>\n",
       "      <td>Pop</td>\n",
       "    </tr>\n",
       "  </tbody>\n",
       "</table>\n",
       "</div>"
      ],
      "text/plain": [
       "                        popularity  danceability  energy  key  loudness  \\\n",
       "songid                                                                    \n",
       "4cqVjzC0AxeDmdeJbV3lHH          47         0.515   0.335    7   -12.794   \n",
       "4WtOFEQOJ3TOPL9iRKWJ95          45         0.843   0.431    1    -9.486   \n",
       "6ht5cDaJsrvWXCOd0vkIsX          45         0.591   0.797    7    -3.544   \n",
       "2Ok9PIQhVkKAaPTMbM4EvS          62         0.333   0.349    3    -8.062   \n",
       "6hGysJfPg591z5fqvTYL8O          55         0.592   0.857    6    -6.817   \n",
       "\n",
       "                        speechiness  acousticness  instrumentalness  liveness  \\\n",
       "songid                                                                          \n",
       "4cqVjzC0AxeDmdeJbV3lHH       0.0292        0.6240          0.005590    0.1220   \n",
       "4WtOFEQOJ3TOPL9iRKWJ95       0.0692        0.3600          0.000038    0.2970   \n",
       "6ht5cDaJsrvWXCOd0vkIsX       0.1090        0.0994          0.000000    0.0797   \n",
       "2Ok9PIQhVkKAaPTMbM4EvS       0.0398        0.8740          0.000000    0.1440   \n",
       "6hGysJfPg591z5fqvTYL8O       0.0315        0.0512          0.000003    0.3340   \n",
       "\n",
       "                        valence    tempo  time_signature category  \n",
       "songid                                                             \n",
       "4cqVjzC0AxeDmdeJbV3lHH   0.0625   95.032               4      Pop  \n",
       "4WtOFEQOJ3TOPL9iRKWJ95   0.3960   97.993               4      Pop  \n",
       "6ht5cDaJsrvWXCOd0vkIsX   0.7850   89.968               4      Pop  \n",
       "2Ok9PIQhVkKAaPTMbM4EvS   0.4180  208.787               4      Pop  \n",
       "6hGysJfPg591z5fqvTYL8O   0.5050  107.092               4      Pop  "
      ]
     },
     "execution_count": 5,
     "metadata": {},
     "output_type": "execute_result"
    }
   ],
   "source": [
    "spotify.head()"
   ]
  },
  {
   "cell_type": "markdown",
   "metadata": {},
   "source": [
    "Convert genre to dummy representation so our model will accept it!"
   ]
  },
  {
   "cell_type": "code",
   "execution_count": 6,
   "metadata": {},
   "outputs": [],
   "source": [
    "spotify_new = pd.get_dummies(spotify, columns=[\"category\"])"
   ]
  },
  {
   "cell_type": "markdown",
   "metadata": {},
   "source": [
    "Create training and test sets"
   ]
  },
  {
   "cell_type": "code",
   "execution_count": 7,
   "metadata": {},
   "outputs": [],
   "source": [
    "training_set, test_set = train_test_split(spotify_new, \n",
    "                 test_size=0.1, \n",
    "                random_state=42)"
   ]
  },
  {
   "cell_type": "markdown",
   "metadata": {},
   "source": [
    "Fit the model "
   ]
  },
  {
   "cell_type": "code",
   "execution_count": 8,
   "metadata": {},
   "outputs": [],
   "source": [
    "fit_nn = NearestNeighbors(metric=\"cosine\", \n",
    "                          algorithm=\"auto\")"
   ]
  },
  {
   "cell_type": "code",
   "execution_count": 9,
   "metadata": {},
   "outputs": [
    {
     "data": {
      "text/plain": [
       "NearestNeighbors(algorithm='auto', leaf_size=30, metric='cosine',\n",
       "         metric_params=None, n_jobs=1, n_neighbors=5, p=2, radius=1.0)"
      ]
     },
     "execution_count": 9,
     "metadata": {},
     "output_type": "execute_result"
    }
   ],
   "source": [
    "fit_nn.fit(training_set)"
   ]
  },
  {
   "cell_type": "markdown",
   "metadata": {},
   "source": [
    "Create helper functions to show song and artist info and output top 9 recommendations"
   ]
  },
  {
   "cell_type": "code",
   "execution_count": 10,
   "metadata": {},
   "outputs": [],
   "source": [
    "my_cols = [\"danceability\", \"energy\", \"key\", \n",
    "           \"loudness\", \"speechiness\", \"acousticness\", \n",
    "           \"instrumentalness\", \"liveness\", \"valence\", \"tempo\"]\n",
    "def return_recommendation(n_entry):\n",
    "    try: \n",
    "        my_entry = test_set.iloc[n_entry, :].values.reshape(1, -1)\n",
    "        recommnd_array = fit_nn.kneighbors(my_entry, n_neighbors=9, return_distance=False)\n",
    "        recommnd_array_new = recommnd_array.flatten()\n",
    "        new_recommend_df = training_set.iloc[recommnd_array_new, :]\n",
    "        last_df = new_recommend_df.join(meta_data, how=\"inner\")\n",
    "        artist_name = meta_data[meta_data.index == test_set.index[n_entry]]\n",
    "        print(\"Recommendations for {0} by {1}\".format(artist_name.values[0][0], \n",
    "                                                 artist_name.values[0][1]))\n",
    "        for i in range(0, len(recommnd_array_new)):\n",
    "            print(\"{0}. Recommended Song: {1} by {2}\".format(i,\n",
    "                                                      last_df[\"song_title\"][i],\n",
    "                                                     last_df[\"artist_name\"][i]))\n",
    "    except IndexError:\n",
    "        print(\"The number you entered is not valid for the current test set! \\nChoose a number between 0-407\")"
   ]
  },
  {
   "cell_type": "code",
   "execution_count": 11,
   "metadata": {},
   "outputs": [],
   "source": [
    "def song_lookup(n_entry, print_artist=True):    \n",
    "    test_set_info = test_set.join(meta_data, how=\"inner\")\n",
    "    test_set_info = test_set_info.assign(new_int= [i for i in range(0, test_set_info.shape[0])])\n",
    "    song_info = test_set_info[[\"artist_name\", \"song_title\"]].iloc[n_entry, :]\n",
    "    if print_artist:\n",
    "        print(\"Song: '{0}' by '{1}'\".format(song_info[\"song_title\"], song_info[\"artist_name\"]))\n",
    "    return n_entry"
   ]
  },
  {
   "cell_type": "markdown",
   "metadata": {},
   "source": [
    "Demonstrate example using *Ooh La La* by *HI-LO* (never heard of them)."
   ]
  },
  {
   "cell_type": "code",
   "execution_count": 12,
   "metadata": {},
   "outputs": [
    {
     "name": "stdout",
     "output_type": "stream",
     "text": [
      "Song: 'Ooh La La' by 'HI-LO'\n"
     ]
    }
   ],
   "source": [
    "_ = song_lookup(2, print_artist=True)"
   ]
  },
  {
   "cell_type": "code",
   "execution_count": 13,
   "metadata": {},
   "outputs": [],
   "source": [
    "hi_lo = song_lookup(2, print_artist=False)"
   ]
  },
  {
   "cell_type": "code",
   "execution_count": 14,
   "metadata": {},
   "outputs": [
    {
     "name": "stdout",
     "output_type": "stream",
     "text": [
      "Recommendations for Ooh La La by HI-LO\n",
      "0. Recommended Song: More Mess - Hugel Remix by Kungs\n",
      "1. Recommended Song: Animals - Victor Niglio & Martin Garrix Festival Trap Mix by Martin Garrix\n",
      "2. Recommended Song: Brolab by Tiësto\n",
      "3. Recommended Song: Real Love - Radio Mix by Antonio Giacca\n",
      "4. Recommended Song: Revolt by Tiësto\n",
      "5. Recommended Song: Boombox by Dirtyphonics\n",
      "6. Recommended Song: Make You Hustle by Croatia Squad\n",
      "7. Recommended Song: Imjussayin by Convex\n",
      "8. Recommended Song: Get Down by Hardwell\n"
     ]
    }
   ],
   "source": [
    "return_recommendation(hi_lo)"
   ]
  },
  {
   "cell_type": "code",
   "execution_count": 15,
   "metadata": {},
   "outputs": [],
   "source": [
    "random.seed(420)\n",
    "# Empty list where we'll add pseudo-random numbers \n",
    "# within range of our index to plot them. \n",
    "rand_list = []\n",
    "for x in range(8):\n",
    "  rand_list.append(random.randint(1,407))"
   ]
  },
  {
   "cell_type": "code",
   "execution_count": 16,
   "metadata": {},
   "outputs": [
    {
     "data": {
      "text/plain": [
       "[14, 345, 401, 187, 140, 207, 49, 392]"
      ]
     },
     "execution_count": 16,
     "metadata": {},
     "output_type": "execute_result"
    }
   ],
   "source": [
    "rand_list"
   ]
  },
  {
   "cell_type": "code",
   "execution_count": 17,
   "metadata": {},
   "outputs": [
    {
     "name": "stdout",
     "output_type": "stream",
     "text": [
      "Recommendations for All We Got (feat. Kanye West & Chicago Childrens Choir) by Chance The Rapper\n",
      "0. Recommended Song: Perplexing Pegasus by Rae Sremmurd\n",
      "1. Recommended Song: Runaway Train by Soul Asylum\n",
      "2. Recommended Song: Too Hotty by Various Artists\n",
      "3. Recommended Song: Back (feat. Lil Yachty) by Lil Pump\n",
      "4. Recommended Song: Summertime Sadness by Lana Del Rey\n",
      "5. Recommended Song: New Freezer (feat. Kendrick Lamar) by Rich The Kid\n",
      "6. Recommended Song: Dig Down by Muse\n",
      "7. Recommended Song: Dont Wanna Know - Acoustic Version by The Mayries\n",
      "8. Recommended Song: Follow You - Tep No Edit by Jamie Brown\n",
      "\n",
      "\n",
      "Recommendations for World Of Magic by Firelite\n",
      "0. Recommended Song: Purpose Of Life by RVAGE\n",
      "1. Recommended Song: Wild Out by Platinum Doug\n",
      "2. Recommended Song: Bad Bae by ChildsPlay, Onderkoffer\n",
      "3. Recommended Song: Akira by Ekali\n",
      "4. Recommended Song: I Was Just a Kid by Nothing But Thieves\n",
      "5. Recommended Song: Tequila Nites by Michael Woods\n",
      "6. Recommended Song: I Doubt It (feat. Blackbear & Skizzy Mars) by Travis Mills\n",
      "7. Recommended Song: On My Mind (Preditah Vip Mix) by Jorja Smith\n",
      "8. Recommended Song: Mahal by Gent & Jawns\n",
      "\n",
      "\n",
      "Recommendations for I Grown It - Francesco Zeta Remix by Mark EG\n",
      "0. Recommended Song: Playing To Lose - Coucheron Remix by Lemaitre\n",
      "1. Recommended Song: Novocaine For The Soul by Eels\n",
      "2. Recommended Song: Turn Up by Isaiah Dreads\n",
      "3. Recommended Song: Money by Jerry Folk\n",
      "4. Recommended Song: Lily by Alpha 9\n",
      "5. Recommended Song: On My Own by The Used\n",
      "6. Recommended Song: Time Painter - Vocal Mix by BAGGI\n",
      "7. Recommended Song: NO WAY (feat. Isaiah Rashad, Joey Purp, & Ambré) by TOKiMONSTA\n",
      "8. Recommended Song: Be by DUAL CHANNELS\n",
      "\n",
      "\n",
      "Recommendations for Be Here by Cyber\n",
      "0. Recommended Song: The Little Things (feat. Angela McCluskey) - Kasbo Remix by Big Gigantic\n",
      "1. Recommended Song: Testament by Jayceeoh\n",
      "2. Recommended Song: Better (Electric Mantis Remix) by Mija\n",
      "3. Recommended Song: There You Go by Saba\n",
      "4. Recommended Song: I Got a Stick by YBN Nahmir\n",
      "5. Recommended Song: Creature Comfort by Arcade Fire\n",
      "6. Recommended Song: Ironic by Alanis Morissette\n",
      "7. Recommended Song: Cumbersome by Seven Mary Three\n",
      "8. Recommended Song: Hood Gone Love It (feat. Kendrick Lamar) by Jay Rock\n",
      "\n",
      "\n",
      "Recommendations for Sunday - KlangTherapeuten \"Looking For Summer\" Remix by Max Manie\n",
      "0. Recommended Song: Shortline - Thomas Jack Remix by Thomas Jack\n",
      "1. Recommended Song: Born To Be Wild by Steppenwolf\n",
      "2. Recommended Song: Pretend Were Dead by L7\n",
      "3. Recommended Song: Reelin In The Years by Steely Dan\n",
      "4. Recommended Song: Straight To The Heart by Bedouin\n",
      "5. Recommended Song: About A Girl by Nirvana\n",
      "6. Recommended Song: Nutshell by Alice In Chains\n",
      "7. Recommended Song: Everlong - Acoustic Version by Foo Fighters\n",
      "8. Recommended Song: Plowed by Sponge\n",
      "\n",
      "\n",
      "Recommendations for Anyway by Eyez\n",
      "0. Recommended Song: Touch Me by Candyland\n",
      "1. Recommended Song: Hey Rosalie by Micke Muster\n",
      "2. Recommended Song: 8701 by J.I.D\n",
      "3. Recommended Song: Lost Not Found by Of Allies\n",
      "4. Recommended Song: Back Then - Screwed & Chopped Version by Mike Jones\n",
      "5. Recommended Song: Tomorrow by Silverchair\n",
      "6. Recommended Song: Enormous (feat. Ty Dolla $ign) by Gucci Mane\n",
      "7. Recommended Song: More Than You Know by Plain Simple\n",
      "8. Recommended Song: Too Much Time (feat. Emerson Brooks) by S.L.M.N\n",
      "\n",
      "\n",
      "Recommendations for Sumos by Tiësto\n",
      "0. Recommended Song: Brolab by Tiësto\n",
      "1. Recommended Song: The Impact by Tiësto\n",
      "2. Recommended Song: Revolt by Tiësto\n",
      "3. Recommended Song: All My Love (feat. Conor Maynard) - Audien Remix by Cash Cash\n",
      "4. Recommended Song: Once Upon A Time by 7 Skies\n",
      "5. Recommended Song: Make You Hustle by Croatia Squad\n",
      "6. Recommended Song: The Drop by Bro Safari\n",
      "7. Recommended Song: Whistle Wars by Kayzo\n",
      "8. Recommended Song: Cant Stop by Devarra\n",
      "\n",
      "\n",
      "Recommendations for Ante Up (Robbin Hoodz Theory) by B2K\n",
      "0. Recommended Song: These Scars (feat. Future and Guordan Banks) by Meek Mill\n",
      "1. Recommended Song: Gucci by Jessi\n",
      "2. Recommended Song: Time of Our Lives by Pitbull\n",
      "3. Recommended Song: One For Me by WizKid\n",
      "4. Recommended Song: Giver by K.Flay\n",
      "5. Recommended Song: Ante Up (Robbin Hoodz Theory) by M.O.P.\n",
      "6. Recommended Song: Keep Their Heads Ringin - LP Version; by Dr. Dre\n",
      "7. Recommended Song: Slippery (feat. Gucci Mane) by Migos\n",
      "8. Recommended Song: Im Just A Kid by Simple Plan\n",
      "\n",
      "\n"
     ]
    }
   ],
   "source": [
    "for i in rand_list:\n",
    "    return_recommendation(i)\n",
    "    print(\"\\n\")"
   ]
  },
  {
   "cell_type": "code",
   "execution_count": null,
   "metadata": {},
   "outputs": [],
   "source": []
  }
 ],
 "metadata": {
  "kernelspec": {
   "display_name": "Python 3",
   "language": "python",
   "name": "python3"
  },
  "language_info": {
   "codemirror_mode": {
    "name": "ipython",
    "version": 3
   },
   "file_extension": ".py",
   "mimetype": "text/x-python",
   "name": "python",
   "nbconvert_exporter": "python",
   "pygments_lexer": "ipython3",
   "version": "3.5.2"
  }
 },
 "nbformat": 4,
 "nbformat_minor": 2
}
